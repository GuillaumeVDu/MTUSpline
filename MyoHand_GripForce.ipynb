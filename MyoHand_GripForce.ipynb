{
  "nbformat": 4,
  "nbformat_minor": 0,
  "metadata": {
    "colab": {
      "provenance": [],
      "include_colab_link": true
    },
    "kernelspec": {
      "name": "python3",
      "display_name": "Python 3"
    },
    "language_info": {
      "name": "python"
    }
  },
  "cells": [
    {
      "cell_type": "markdown",
      "metadata": {
        "id": "view-in-github",
        "colab_type": "text"
      },
      "source": [
        "<a href=\"https://colab.research.google.com/github/GuillaumeVDu/MTUSpline/blob/master/MyoHand_GripForce.ipynb\" target=\"_parent\"><img src=\"https://colab.research.google.com/assets/colab-badge.svg\" alt=\"Open In Colab\"/></a>"
      ]
    },
    {
      "cell_type": "markdown",
      "source": [
        "# Experiment: Grip Force Analysis\n",
        "This is a demo script to help with the grip force analysis experiment"
      ],
      "metadata": {
        "id": "PIiMArv6x_6D"
      }
    },
    {
      "cell_type": "code",
      "execution_count": null,
      "metadata": {
        "colab": {
          "base_uri": "https://localhost:8080/"
        },
        "id": "BHLAc1zVrT9t",
        "outputId": "a1e8fdbf-15f6-48a9-dc27-23804cd66239"
      },
      "outputs": [
        {
          "output_type": "stream",
          "name": "stdout",
          "text": [
            "Looking in indexes: https://pypi.org/simple, https://us-python.pkg.dev/colab-wheels/public/simple/\n",
            "Collecting mujoco\n",
            "  Downloading mujoco-2.3.5-cp310-cp310-manylinux_2_17_x86_64.manylinux2014_x86_64.whl (4.3 MB)\n",
            "\u001b[2K     \u001b[90m━━━━━━━━━━━━━━━━━━━━━━━━━━━━━━━━━━━━━━━━\u001b[0m \u001b[32m4.3/4.3 MB\u001b[0m \u001b[31m18.7 MB/s\u001b[0m eta \u001b[36m0:00:00\u001b[0m\n",
            "\u001b[?25hRequirement already satisfied: absl-py in /usr/local/lib/python3.10/dist-packages (from mujoco) (1.4.0)\n",
            "Collecting glfw (from mujoco)\n",
            "  Downloading glfw-2.5.9-py2.py27.py3.py30.py31.py32.py33.py34.py35.py36.py37.py38-none-manylinux2014_x86_64.whl (207 kB)\n",
            "\u001b[2K     \u001b[90m━━━━━━━━━━━━━━━━━━━━━━━━━━━━━━━━━━━━━━\u001b[0m \u001b[32m207.8/207.8 kB\u001b[0m \u001b[31m15.6 MB/s\u001b[0m eta \u001b[36m0:00:00\u001b[0m\n",
            "\u001b[?25hRequirement already satisfied: numpy in /usr/local/lib/python3.10/dist-packages (from mujoco) (1.22.4)\n",
            "Requirement already satisfied: pyopengl in /usr/local/lib/python3.10/dist-packages (from mujoco) (3.1.6)\n",
            "Installing collected packages: glfw, mujoco\n",
            "Successfully installed glfw-2.5.9 mujoco-2.3.5\n",
            "Cloning into 'myo_sim'...\n",
            "remote: Enumerating objects: 316, done.\u001b[K\n",
            "remote: Counting objects: 100% (316/316), done.\u001b[K\n",
            "remote: Compressing objects: 100% (273/273), done.\u001b[K\n",
            "remote: Total 316 (delta 67), reused 267 (delta 40), pack-reused 0\u001b[K\n",
            "Receiving objects: 100% (316/316), 18.73 MiB | 15.89 MiB/s, done.\n",
            "Resolving deltas: 100% (67/67), done.\n"
          ]
        }
      ],
      "source": [
        "# Install MuJoCo\n",
        "!pip install mujoco\n",
        "# This clones locally the MyoHand model with force sensing. \n",
        "# You can use this command locally as well to play with the model in simulate\n",
        "!git clone --branch grip_force https://github.com/MyoHub/myo_sim.git\n"
      ]
    },
    {
      "cell_type": "code",
      "source": [
        "# Load the model and data\n",
        "import mujoco\n",
        "mjcModel  = mujoco.MjModel.from_xml_path(\"./myo_sim/hand/myo_hand_grip_force.xml\")\n",
        "data = mujoco.MjData(mjcModel)"
      ],
      "metadata": {
        "id": "sS9HaqsOx2n2"
      },
      "execution_count": null,
      "outputs": []
    },
    {
      "cell_type": "code",
      "source": [
        "# Define the range of muscle to activate\n",
        "MuscleRange = range(8,16)\n",
        "\n",
        "for i in MuscleRange:\n",
        "    print([i,mjcModel.actuator(i).name])\n",
        "\n",
        "# Run the simulation for 1000 steps \n",
        "for _ in range(1000):\n",
        "    data.ctrl[:] = 0\n",
        "    for i in MuscleRange:\n",
        "        # Muscle activation (uniform for all muscles defined in `MuscleRange`)\n",
        "        data.ctrl[i] = .5\n",
        "    mujoco.mj_step(mjcModel, data)"
      ],
      "metadata": {
        "colab": {
          "base_uri": "https://localhost:8080/"
        },
        "id": "RqsQkWebremL",
        "outputId": "944b23e9-0273-498d-d8f3-960c953e454b"
      },
      "execution_count": null,
      "outputs": [
        {
          "output_type": "stream",
          "name": "stdout",
          "text": [
            "[8, 'FDS5']\n",
            "[9, 'FDS4']\n",
            "[10, 'FDS3']\n",
            "[11, 'FDS2']\n",
            "[12, 'FDP5']\n",
            "[13, 'FDP4']\n",
            "[14, 'FDP3']\n",
            "[15, 'FDP2']\n"
          ]
        }
      ]
    },
    {
      "cell_type": "code",
      "source": [
        "print(f\"Force in Kg {data.sensordata/9.81}\")\n",
        "# print(mjcModel.actuator.name[8])"
      ],
      "metadata": {
        "id": "qr9CKBUpsHFv",
        "colab": {
          "base_uri": "https://localhost:8080/"
        },
        "outputId": "7506c054-770e-4626-a963-0d160a075ae8"
      },
      "execution_count": null,
      "outputs": [
        {
          "output_type": "stream",
          "name": "stdout",
          "text": [
            "Force in Kg [29.37383009]\n"
          ]
        }
      ]
    }
  ]
}